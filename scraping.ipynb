{
 "cells": [
  {
   "cell_type": "markdown",
   "metadata": {},
   "source": [
    "# Scraping job Data\n",
    "## In this project I will be scraping job information from indeed using python"
   ]
  },
  {
   "cell_type": "code",
   "execution_count": 1,
   "metadata": {},
   "outputs": [],
   "source": [
    "import requests\n",
    "import bs4\n",
    "from bs4 import BeautifulSoup\n",
    "import pandas as pd\n",
    "import time"
   ]
  },
  {
   "cell_type": "markdown",
   "metadata": {},
   "source": [
    "After importing required libraries lets pull the html version of the page "
   ]
  },
  {
   "cell_type": "code",
   "execution_count": null,
   "metadata": {},
   "outputs": [],
   "source": [
    "URL = \"https://ca.indeed.com/jobs?q=data+analyst&l=Canada&radius=25&ts=1613590592127&rq=1&rsIdx=0\"\n",
    "#conducting a request of the stated URL above:\n",
    "page = requests.get(URL)\n",
    "#specifying a desired format of “page” using the html parser - this allows python to read the various components of the page, rather than treating it as one long string.\n",
    "soup = BeautifulSoup(page.text, \"html.parser\")\n",
    "#printing soup in a more structured tree format that makes for easier reading\n",
    "print(soup.prettify())"
   ]
  },
  {
   "cell_type": "markdown",
   "metadata": {},
   "source": [
    "From the html page lets withdraw basic elements of data.\n",
    "\n",
    "The elements we will be extracting are job title, company name, location and job summary"
   ]
  },
  {
   "cell_type": "code",
   "execution_count": 16,
   "metadata": {},
   "outputs": [
    {
     "data": {
      "text/plain": [
       "['Research and Data Analyst Intern',\n",
       " 'Data Analyst, Game',\n",
       " 'Logistics Data Analyst',\n",
       " 'Customer Experience Data Analyst (4 Month Secondment)',\n",
       " 'Data Analyst',\n",
       " 'Data analyst (Summer internship)',\n",
       " 'Data Validation Analyst - HRMS Instrumentation Lab',\n",
       " 'Data Analyst, Parents',\n",
       " 'Business Insight Data Analyst',\n",
       " 'Data Analyst, Educators',\n",
       " 'Junior Data Analyst - Relational/SQL Data Bases',\n",
       " 'SENIOR DATA AND INFORMATION ANALYST',\n",
       " 'Intermediate Data Analyst',\n",
       " 'Programmer Analyst',\n",
       " 'EC-02 - Data Analyst']"
      ]
     },
     "execution_count": 16,
     "metadata": {},
     "output_type": "execute_result"
    }
   ],
   "source": [
    "def extract_job_title_from_result(soup): \n",
    "    jobs = []\n",
    "    for div in soup.find_all(name=\"div\", attrs={\"class\":\"row\"}):\n",
    "        for a in div.find_all(name=\"a\", attrs={\"data-tn-element\":\"jobTitle\"}):\n",
    "            jobs.append(a[\"title\"])\n",
    "    return(jobs)\n",
    "extract_job_title_from_result(soup)"
   ]
  },
  {
   "cell_type": "code",
   "execution_count": 18,
   "metadata": {},
   "outputs": [
    {
     "data": {
      "text/plain": [
       "['Halton Region',\n",
       " 'Prodigy Game',\n",
       " 'Atlantic Packaging Products Ltd.',\n",
       " 'BMO Financial Group',\n",
       " 'RBC',\n",
       " 'Ipnos Software',\n",
       " 'Bureau Veritas',\n",
       " 'Prodigy Game',\n",
       " 'Millennium 1 Solutions',\n",
       " 'Prodigy Game',\n",
       " 'GHD',\n",
       " 'Ministry of Indigenous Affairs',\n",
       " 'Citi',\n",
       " 'EOS Canada Inc',\n",
       " 'Indigenous Services Canada']"
      ]
     },
     "execution_count": 18,
     "metadata": {},
     "output_type": "execute_result"
    }
   ],
   "source": [
    "def extract_company_from_result(soup):\n",
    "    companies = []\n",
    "    for div in soup.find_all(name = \"div\",attrs = {\"class\" : \"row\"}):\n",
    "        company = div.find_all(name = \"span\",attrs = {\"class\" : \"company\"})\n",
    "        if len(company) > 0:\n",
    "            for b in company:\n",
    "                companies.append(b.text.strip())\n",
    "        else:\n",
    "            sec_try = div.find_all(name = \"span\", attrs = {\"class\":\"result-link-source\"})\n",
    "            for span in sec_try:\n",
    "                comapanies.append(span.text.strip())\n",
    "    return(companies)\n",
    "extract_company_from_result(soup)"
   ]
  },
  {
   "cell_type": "code",
   "execution_count": 20,
   "metadata": {},
   "outputs": [
    {
     "data": {
      "text/plain": [
       "['Halton, ON',\n",
       " 'Mississauga, ON',\n",
       " 'Toronto, ON',\n",
       " 'Montréal, QC',\n",
       " 'Mississauga, ON',\n",
       " 'Waterloo, ON',\n",
       " 'Toronto, ON',\n",
       " 'Mississauga, ON',\n",
       " 'Canada']"
      ]
     },
     "execution_count": 20,
     "metadata": {},
     "output_type": "execute_result"
    }
   ],
   "source": [
    "def extract_location_from_result(soup):\n",
    "    locations = []\n",
    "    spans = soup.findAll('span', attrs = {'class' : 'location'})\n",
    "    for span in spans:\n",
    "        locations.append(span.text)\n",
    "    return (locations)\n",
    "extract_location_from_result(soup)"
   ]
  },
  {
   "cell_type": "code",
   "execution_count": 27,
   "metadata": {},
   "outputs": [
    {
     "data": {
      "text/plain": [
       "['Nothing_found',\n",
       " 'Nothing_found',\n",
       " 'Nothing_found',\n",
       " 'Nothing_found',\n",
       " 'Nothing_found',\n",
       " 'Nothing_found',\n",
       " 'Nothing_found',\n",
       " 'Nothing_found',\n",
       " 'Nothing_found',\n",
       " 'Nothing_found',\n",
       " 'Nothing_found',\n",
       " 'Nothing_found',\n",
       " 'Nothing_found',\n",
       " 'Nothing_found',\n",
       " 'Nothing_found']"
      ]
     },
     "execution_count": 27,
     "metadata": {},
     "output_type": "execute_result"
    }
   ],
   "source": [
    "def extract_salary_from_result(soup):\n",
    "    salaries = []\n",
    "    for div in soup.find_all(name = \"div\", attrs = {\"class\":\"row\"}):\n",
    "        try:\n",
    "            salaries.append(div.find('no-wrapper').text)\n",
    "        except:\n",
    "            try:\n",
    "                div_two = div.find(name = \"div\", attrs = {\"class\" : \"salary no-wrap\"})\n",
    "                div_three = div_two.find(\"div\")\n",
    "                salaries.append(div_three.text.strip())\n",
    "            except:\n",
    "                salaries.append(\"Nothing_found\")\n",
    "    return(salaries)\n",
    "\n",
    "extract_salary_from_result(soup)"
   ]
  },
  {
   "cell_type": "code",
   "execution_count": 33,
   "metadata": {},
   "outputs": [
    {
     "data": {
      "text/plain": [
       "['Support the procurement of local, newcomer specific data; assisting with research and survey design and dissemination, qualitative and quantitative data…',\n",
       " 'At least 2 years experience with data analytics.\\nAbility to translate data insights into actionable steps.\\nHelp our game teams explore, analyse, and understand…',\n",
       " 'Advanced knowledge of data Analytics in Excel.\\nAbility to analyse, model and interpret data.\\nAnalyzing and interpreting data: 5 years (Preferred).',\n",
       " 'Assist with data collection; exporting raw data, cleaning the data, and then uploading it into SQL database.\\nAnalysis and insights on customer behavior will be…',\n",
       " 'Good knowledge of securities and data management industry.\\nEstablish communication networks with all business units for the receipt of set up data.',\n",
       " 'Collaborating with the dev team on data collection and data quality validation.\\nExperience with data visualization and dashboard building.',\n",
       " 'Prepare data packages for client’s reports.\\nPerform analysis, interpret, and evaluate HRMS analytical data, including Dioxins /Furans, PAH’s, OC Pesticides, PCB…',\n",
       " 'At least 2 years experience with data analytics.\\nAbility to translate data insights into actionable steps.\\nOwn design and develop of a variety of Parent metrics…',\n",
       " 'Participate in testing and maintenance of data science solutions Assist in the development of automated processes for large scale data analysis.',\n",
       " 'At least 2 years experience with data analytics.\\nAbility to translate data insights into actionable steps.\\nHelp develop statistically-sound case studies on our…',\n",
       " 'Liaison between the project staff, data validator and GIS analysts;\\nThe successful candidate will be responsible for coordination of data management projects,…',\n",
       " 'You are proficient with computer applications that facilitate analysis of quantitative and qualitative research, data and financial analysis, database…',\n",
       " 'Applies professional judgment when interpreting data and results.\\nKnowledge of tools for statistical modeling of large data sets.\\n2-5 years relevant experience.',\n",
       " 'Confirm project requirements by reviewing program objective, input data, and output requirements with business analyst, Director and client.',\n",
       " 'AE1. Experience designing, planning and implementing projects, which include data collection, data modelling, data integration, data analyses and knowledge…']"
      ]
     },
     "execution_count": 33,
     "metadata": {},
     "output_type": "execute_result"
    }
   ],
   "source": [
    "def extract_summary_from_result(soup):\n",
    "    summaries = []\n",
    "    spans = soup.findAll('div', attrs = {'class' : 'summary'})\n",
    "    for span in spans:\n",
    "        summaries.append(span.text.strip())\n",
    "    return(summaries)\n",
    "\n",
    "extract_summary_from_result(soup)"
   ]
  },
  {
   "cell_type": "markdown",
   "metadata": {},
   "source": [
    "From this I have extracted required job information from a web page"
   ]
  }
 ],
 "metadata": {
  "kernelspec": {
   "display_name": "Python 3",
   "language": "python",
   "name": "python3"
  },
  "language_info": {
   "codemirror_mode": {
    "name": "ipython",
    "version": 3
   },
   "file_extension": ".py",
   "mimetype": "text/x-python",
   "name": "python",
   "nbconvert_exporter": "python",
   "pygments_lexer": "ipython3",
   "version": "3.8.5"
  }
 },
 "nbformat": 4,
 "nbformat_minor": 4
}
